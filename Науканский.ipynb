{
  "nbformat": 4,
  "nbformat_minor": 0,
  "metadata": {
    "colab": {
      "provenance": [],
      "authorship_tag": "ABX9TyMwIzbhiRQSi4Bupcv4KPbZ",
      "include_colab_link": true
    },
    "kernelspec": {
      "name": "python3",
      "display_name": "Python 3"
    },
    "language_info": {
      "name": "python"
    }
  },
  "cells": [
    {
      "cell_type": "markdown",
      "metadata": {
        "id": "view-in-github",
        "colab_type": "text"
      },
      "source": [
        "<a href=\"https://colab.research.google.com/github/pnafanyka/Morphoanalyzer-for-Naukan-language/blob/main/%D0%9D%D0%B0%D1%83%D0%BA%D0%B0%D0%BD%D1%81%D0%BA%D0%B8%D0%B9.ipynb\" target=\"_parent\"><img src=\"https://colab.research.google.com/assets/colab-badge.svg\" alt=\"Open In Colab\"/></a>"
      ]
    },
    {
      "cell_type": "code",
      "execution_count": null,
      "metadata": {
        "id": "SaT6TrZCjMw9"
      },
      "outputs": [],
      "source": []
    },
    {
      "cell_type": "markdown",
      "source": [
        "Word structure:\n",
        "stem + postbases + ending + enclitics (From Yupik grammar)\n",
        "\n",
        "---\n",
        "\n",
        "\n"
      ],
      "metadata": {
        "id": "QVbfMcLqjNx6"
      }
    },
    {
      "cell_type": "code",
      "source": [
        "!curl -sS https://apertium.projectjj.com/apt/install-release.sh | sudo bash\n",
        "!apt install apertium-all-dev lexd"
      ],
      "metadata": {
        "id": "JxYS70TPjVli"
      },
      "execution_count": null,
      "outputs": []
    },
    {
      "cell_type": "markdown",
      "source": [
        "Замечания по алфавиту: \n",
        "\n",
        "ɴ - увулярный носовой смычный \n",
        "\n",
        "j̊ - неслоговой палатальный аппроксимант"
      ],
      "metadata": {
        "id": "g09zeg9ej0sB"
      }
    },
    {
      "cell_type": "markdown",
      "source": [],
      "metadata": {
        "id": "XVfH0LQnm4H_"
      }
    },
    {
      "cell_type": "code",
      "source": [
        "%%writefile naukan.lexd\n",
        "\n",
        "#Зададим паттерн\n",
        "PATTERNS\n",
        "#Суффиксы числа\n",
        "NumbSuffix\n",
        "#Суффиксы падежа\n",
        "CaseSuffix\n",
        "#склонение существитетельного по числам\n",
        "Stem NumbSuffix? CaseSuffix?\n",
        "\n",
        "\n",
        "\n",
        "#Зададим для проверки корень\n",
        "LEXICON Stem\n",
        "<pencil>:alŋan\n",
        "\n",
        "LEXICON NumbSuffix\n",
        "<Sg>:θ\n",
        "<PL>:ɨt\n",
        "<PL>:t\n",
        "<DU>:k\n",
        "<DU>:x\n",
        "<DU>:ɣ\n",
        "\n",
        "LEXICON CaseSuffix\n",
        "<ABS>:θ\n",
        "<ERG>:m\n",
        "<INS>:mɨŋ\n",
        "<INS>:nɨŋ\n",
        "<PROL>:xun\n",
        "<PROL>:kun\n",
        "<CMPR>:situn\n",
        "<LAT>:mun\n",
        "<LAT>:nun \n",
        "<LOC>:mi\n",
        "<LOC>:ni\n"
      ],
      "metadata": {
        "colab": {
          "base_uri": "https://localhost:8080/"
        },
        "id": "NQdHf3bypKVf",
        "outputId": "a1db3e97-8388-446b-dce0-9e4e9a76685e"
      },
      "execution_count": 77,
      "outputs": [
        {
          "output_type": "stream",
          "name": "stdout",
          "text": [
            "Overwriting naukan.lexd\n"
          ]
        }
      ]
    },
    {
      "cell_type": "code",
      "source": [
        "!lexd naukan.lexd > naukan.generator.att\n",
        "!lt-comp rl naukan.generator.att naukan.analyser.bin\n",
        "! lexd naukan.lexd | hfst-txt2fst -o naukan.generator.hfst\n",
        "! hfst-invert naukan.generator.hfst -o naukan.analyzer.hfst"
      ],
      "metadata": {
        "colab": {
          "base_uri": "https://localhost:8080/"
        },
        "id": "_h6oFn36ThhT",
        "outputId": "613b405f-64f3-4531-b912-883dcd81ea06"
      },
      "execution_count": 78,
      "outputs": [
        {
          "output_type": "stream",
          "name": "stdout",
          "text": [
            "main@standard 17 59\n"
          ]
        }
      ]
    },
    {
      "cell_type": "code",
      "source": [
        "%%writefile naukan.twol\n",
        "Alphabet\n",
        "p m f v w t n n̥ s ʃ l̥ l r ɳ j̊ j k ŋ q x ɣ ɴ χ a e i o u ɨ\n",
        ";\n",
        "\n",
        "Sets\n",
        "Consonant =p m f v w t n n̥ s ʃ l̥ l r ɳ j̊ j k ŋ q x ɣ ɴ χ; \n",
        "Sonorant = l l̥ m n̥ n ŋ r;\n",
        "Vowel = a e i o u ɨ;  \n",
        "\n",
        "Rules\n",
        "\"Space\"\n",
        "%{Space%}:%  <=> _ ;\n",
        "\"n to t\"\n",
        "n:t <=> Consonant|Vowel _ Consonant|Vowel\n",
        ";"
      ],
      "metadata": {
        "colab": {
          "base_uri": "https://localhost:8080/"
        },
        "id": "tOCLdhaQm5rE",
        "outputId": "724f5265-3aa2-4b8d-f521-6e60e0609874"
      },
      "execution_count": 82,
      "outputs": [
        {
          "output_type": "stream",
          "name": "stdout",
          "text": [
            "Overwriting naukan.twol\n"
          ]
        }
      ]
    },
    {
      "cell_type": "code",
      "source": [
        "! hfst-twolc naukan.twol -o naukan.twol.hfst\n",
        "! lexd naukan.lexd | hfst-txt2fst -o naukan.lexd.hfst\n",
        "! hfst-compose-intersect naukan.lexd.hfst naukan.twol.hfst -o naukan.generator.hfst\n",
        "! hfst-invert naukan.generator.hfst -o naukan.analyzer.hfst"
      ],
      "metadata": {
        "colab": {
          "base_uri": "https://localhost:8080/"
        },
        "id": "haNxsxqOMJu0",
        "outputId": "601303ad-5d4b-4d5c-dcd3-a5872630be24"
      },
      "execution_count": 83,
      "outputs": [
        {
          "output_type": "stream",
          "name": "stdout",
          "text": [
            "Reading input from naukan.twol.\n",
            "Writing output to naukan.twol.hfst.\n",
            "Reading alphabet.\n",
            "Reading sets.\n",
            "Reading rules and compiling their contexts and centers.\n",
            "Compiling rules.\n",
            "Storing rules.\n"
          ]
        }
      ]
    },
    {
      "cell_type": "code",
      "source": [
        "word = input(\"Введите словоформу: \")\n",
        "! echo {word} | hfst-lookup naukan.analyzer.hfst"
      ],
      "metadata": {
        "colab": {
          "base_uri": "https://localhost:8080/"
        },
        "id": "JaROl45EwRwR",
        "outputId": "4184c612-50bc-4995-cffe-2a61e24630fd"
      },
      "execution_count": 84,
      "outputs": [
        {
          "output_type": "stream",
          "name": "stdout",
          "text": [
            "Введите словоформу: alŋatɨt\n",
            "hfst-lookup: warning: It is not possible to perform fast lookups with OpenFST, std arc, tropical semiring format automata.\n",
            "Using HFST basic transducer format and performing slow lookups\n",
            "> alŋatɨt\t<pencil><PL>\t0.000000\n",
            "\n",
            "> "
          ]
        }
      ]
    },
    {
      "cell_type": "code",
      "source": [],
      "metadata": {
        "id": "gF76TfgPceXw"
      },
      "execution_count": null,
      "outputs": []
    }
  ]
}